{
  "nbformat": 4,
  "nbformat_minor": 0,
  "metadata": {
    "colab": {
      "provenance": [],
      "include_colab_link": true
    },
    "kernelspec": {
      "name": "python3",
      "display_name": "Python 3"
    },
    "language_info": {
      "name": "python"
    }
  },
  "cells": [
    {
      "cell_type": "markdown",
      "metadata": {
        "id": "view-in-github",
        "colab_type": "text"
      },
      "source": [
        "<a href=\"https://colab.research.google.com/github/c0nrrrs/Connor_DTSC3020_Fall2025/blob/main/Student_In_Class_Assignment_Ch_8.ipynb\" target=\"_parent\"><img src=\"https://colab.research.google.com/assets/colab-badge.svg\" alt=\"Open In Colab\"/></a>"
      ]
    },
    {
      "cell_type": "markdown",
      "source": [
        "##Final Class Exercise"
      ],
      "metadata": {
        "id": "51gCuC6VJ3gu"
      }
    },
    {
      "cell_type": "markdown",
      "source": [
        "Write a Python function create_email(full_name) that builds a UNT email in the format\n",
        "firstname.lastname@my.unt.edu.\n",
        "\n",
        "Rules\n",
        "\n",
        " • Use the first and last word from full_name (case-insensitive).\n",
        "\n",
        " • Convert everything to lowercase.\n",
        "\n",
        " • If there is only one word, use it twice (e.g., \"ali\" → ali.ali@my.unt.edu).\n",
        "\n",
        " • Return the email string.\n",
        "\n",
        "\n",
        "Constraints\n",
        "\n",
        " • Use a function and return.\n",
        "\n",
        " • Do not use input() or external libraries.\n",
        "\n",
        "\n",
        " test your code with this list\n",
        " names = [\n",
        "    \"Sara Amini\",\n",
        "    \"Ali\",\n",
        "    \"Mary Jane\",\n",
        "    \"  John   Smith  \",\n",
        "    \"LINA\",\n",
        "    \"madonna\",\n",
        "    \"  sara   amini  \"\n",
        "]"
      ],
      "metadata": {
        "id": "7pxJ6i3jH7Yq"
      }
    },
    {
      "cell_type": "code",
      "source": [
        "# Write your solution here.\n",
        "def create_email(full_name):\n",
        "    # Strip leading/trailing whitespace and split the name into parts\n",
        "    name_parts = full_name.strip().split()\n",
        "\n",
        "    # Determine the first and last names based on the number of parts\n",
        "    if len(name_parts) == 1:\n",
        "        # If there's only one part, use it for both first and last names (in lowercase)\n",
        "        first_name = last_name = name_parts[0].lower()\n",
        "    else:\n",
        "        # Otherwise, use the first and last parts as first and last names (in lowercase)\n",
        "        first_name = name_parts[0].lower()\n",
        "        last_name = name_parts[-1].lower()\n",
        "\n",
        "    # Construct the email address using the determined first and last names\n",
        "    email_address = f\"{first_name}.{last_name}@my.unt.edu\"\n",
        "\n",
        "    # Return the generated email address\n",
        "    return email_address\n",
        "\n",
        "\n",
        "# Test the function with the provided list\n",
        "names = [\"Sara Amini\", \"Ali\", \"Mary Jane\", \" John Smith \", \"LINA\", \"madonna\", \" sara amini \"]\n",
        "\n",
        "for name in names:\n",
        "    print(f\"{name!r} → {create_email(name)}\")"
      ],
      "metadata": {
        "id": "6jcH9Qm_IXWh",
        "colab": {
          "base_uri": "https://localhost:8080/"
        },
        "outputId": "c3c10af1-17e7-4e21-9e85-9203177b8435"
      },
      "execution_count": 9,
      "outputs": [
        {
          "output_type": "stream",
          "name": "stdout",
          "text": [
            "'Sara Amini' → sara.amini@my.unt.edu\n",
            "'Ali' → ali.ali@my.unt.edu\n",
            "'Mary Jane' → mary.jane@my.unt.edu\n",
            "' John Smith ' → john.smith@my.unt.edu\n",
            "'LINA' → lina.lina@my.unt.edu\n",
            "'madonna' → madonna.madonna@my.unt.edu\n",
            "' sara amini ' → sara.amini@my.unt.edu\n"
          ]
        }
      ]
    }
  ]
}