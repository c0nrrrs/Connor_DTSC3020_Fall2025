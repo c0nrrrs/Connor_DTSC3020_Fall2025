{
  "nbformat": 4,
  "nbformat_minor": 0,
  "metadata": {
    "colab": {
      "provenance": [],
      "authorship_tag": "ABX9TyPfmBkXHcnbN3GfhVSNBTek",
      "include_colab_link": true
    },
    "kernelspec": {
      "name": "python3",
      "display_name": "Python 3"
    },
    "language_info": {
      "name": "python"
    }
  },
  "cells": [
    {
      "cell_type": "markdown",
      "metadata": {
        "id": "view-in-github",
        "colab_type": "text"
      },
      "source": [
        "<a href=\"https://colab.research.google.com/github/c0nrrrs/Connor_DTSC3020_Fall2025/blob/main/Assignment_2.ipynb\" target=\"_parent\"><img src=\"https://colab.research.google.com/assets/colab-badge.svg\" alt=\"Open In Colab\"/></a>"
      ]
    },
    {
      "cell_type": "code",
      "execution_count": 21,
      "metadata": {
        "colab": {
          "base_uri": "https://localhost:8080/"
        },
        "id": "VAC6LB2p4o9g",
        "outputId": "66fb5e8f-eac0-4376-a3bb-1d2ce3adfdf7"
      },
      "outputs": [
        {
          "output_type": "stream",
          "name": "stdout",
          "text": [
            "['mango', 'pear', 'watermelon']\n",
            "mango\n",
            "pear\n",
            "watermelon\n"
          ]
        }
      ],
      "source": [
        "fruits = ['mango', 'pear', 'watermelon']\n",
        "print(fruits)\n",
        "print(fruits[0])\n",
        "print(fruits[1])\n",
        "print(fruits[2])"
      ]
    },
    {
      "cell_type": "code",
      "source": [
        "names = ['Connor',  'Jeff', 'Brian', 'Joe']\n",
        "print(names)\n",
        "names[0] = 'Jonathan'\n",
        "print(names)"
      ],
      "metadata": {
        "colab": {
          "base_uri": "https://localhost:8080/"
        },
        "id": "FUjDZBI75v0n",
        "outputId": "19ee618a-0b32-4ccb-c75a-0c7db7e3e7b9"
      },
      "execution_count": 19,
      "outputs": [
        {
          "output_type": "stream",
          "name": "stdout",
          "text": [
            "['Connor', 'Jeff', 'Brian', 'Joe']\n",
            "['Jonathan', 'Jeff', 'Brian', 'Joe']\n"
          ]
        }
      ]
    },
    {
      "cell_type": "code",
      "source": [
        "vehicles = ['car','truck','motorcycle','train','airplane']\n",
        "print(vehicles)\n",
        "vehicles.append('boat')\n",
        "print(vehicles)"
      ],
      "metadata": {
        "colab": {
          "base_uri": "https://localhost:8080/"
        },
        "id": "GOiovbtS6ZVP",
        "outputId": "bde7ee27-d74f-41c2-8aba-ad6a8ec550b5"
      },
      "execution_count": 18,
      "outputs": [
        {
          "output_type": "stream",
          "name": "stdout",
          "text": [
            "['car', 'truck', 'motorcycle', 'train', 'airplane']\n",
            "['car', 'truck', 'motorcycle', 'train', 'airplane', 'boat']\n"
          ]
        }
      ]
    },
    {
      "cell_type": "code",
      "source": [
        "foods = ['pizza', 'tacos', 'burgers', 'fries', 'burritos', 'spaghetti']\n",
        "print(foods)\n",
        "del foods[0]\n",
        "print(foods)"
      ],
      "metadata": {
        "colab": {
          "base_uri": "https://localhost:8080/"
        },
        "id": "UnctnJIG7P6P",
        "outputId": "fbe5738a-085e-4000-c0c7-5b680dd59f94"
      },
      "execution_count": 17,
      "outputs": [
        {
          "output_type": "stream",
          "name": "stdout",
          "text": [
            "['pizza', 'tacos', 'burgers', 'fries', 'burritos', 'spaghetti']\n",
            "['tacos', 'burgers', 'fries', 'burritos', 'spaghetti']\n"
          ]
        }
      ]
    },
    {
      "cell_type": "code",
      "source": [
        "cities = ['New York', 'Los Angeles', 'Chicago', 'Houston']\n",
        "cities.sort()\n",
        "print(cities)\n",
        "cities.sort(reverse=True)\n",
        "print(cities)"
      ],
      "metadata": {
        "colab": {
          "base_uri": "https://localhost:8080/"
        },
        "id": "N6sjyJ0b7SGB",
        "outputId": "2c4efe69-99a1-4170-96e0-f5ce7f5d7409"
      },
      "execution_count": 16,
      "outputs": [
        {
          "output_type": "stream",
          "name": "stdout",
          "text": [
            "['Chicago', 'Houston', 'Los Angeles', 'New York']\n",
            "['New York', 'Los Angeles', 'Houston', 'Chicago']\n"
          ]
        }
      ]
    },
    {
      "cell_type": "code",
      "source": [
        "animals = ['cat', 'dog', 'zebra']\n",
        "for animals in animals:\n",
        "    print(animals)\n"
      ],
      "metadata": {
        "colab": {
          "base_uri": "https://localhost:8080/"
        },
        "id": "hiWOCQKi9ULr",
        "outputId": "e929e1a1-3587-417c-f892-68ba3febd787"
      },
      "execution_count": 10,
      "outputs": [
        {
          "output_type": "stream",
          "name": "stdout",
          "text": [
            "cat\n",
            "dog\n",
            "zebra\n"
          ]
        }
      ]
    },
    {
      "cell_type": "code",
      "source": [
        "numbers = list(range(1, 6))\n",
        "print(numbers)\n",
        "squares = []\n",
        "for value in range (1, 6):\n",
        "  square = value *2\n",
        "  squares.append(square)\n",
        "print(squares)"
      ],
      "metadata": {
        "colab": {
          "base_uri": "https://localhost:8080/"
        },
        "id": "ICKF5A-b9wfs",
        "outputId": "900a979c-4b5d-426b-a6f3-d051d7243cf2"
      },
      "execution_count": 14,
      "outputs": [
        {
          "output_type": "stream",
          "name": "stdout",
          "text": [
            "[1, 2, 3, 4, 5]\n",
            "[2, 4, 6, 8, 10]\n"
          ]
        }
      ]
    },
    {
      "cell_type": "code",
      "source": [
        "friends = ['Hussain', 'Sienna', 'V', 'Leelan', 'Danny', 'ian']\n",
        "print(friends)\n",
        "print(friends[0:3])\n",
        "print(friends[2:5])\n",
        "\n"
      ],
      "metadata": {
        "colab": {
          "base_uri": "https://localhost:8080/"
        },
        "id": "SgOjO58jCDUr",
        "outputId": "f6e1b103-3f37-46e2-d55d-79e996217681"
      },
      "execution_count": 26,
      "outputs": [
        {
          "output_type": "stream",
          "name": "stdout",
          "text": [
            "['Hussain', 'Sienna', 'V', 'Leelan', 'Danny', 'ian']\n",
            "['Hussain', 'Sienna', 'V']\n",
            "['V', 'Leelan', 'Danny']\n"
          ]
        }
      ]
    },
    {
      "cell_type": "code",
      "source": [
        "for value in range (1, 11):\n",
        "  print(value)"
      ],
      "metadata": {
        "colab": {
          "base_uri": "https://localhost:8080/"
        },
        "id": "Ud5nxWkWFMPn",
        "outputId": "b1562735-aea0-4333-d729-e51ce471751b"
      },
      "execution_count": 28,
      "outputs": [
        {
          "output_type": "stream",
          "name": "stdout",
          "text": [
            "1\n",
            "2\n",
            "3\n",
            "4\n",
            "5\n",
            "6\n",
            "7\n",
            "8\n",
            "9\n",
            "10\n"
          ]
        }
      ]
    },
    {
      "cell_type": "code",
      "source": [
        "squares = [value**2 for value in range(1, 6)]\n",
        "print(squares)"
      ],
      "metadata": {
        "colab": {
          "base_uri": "https://localhost:8080/"
        },
        "id": "h6nDSO7IEseq",
        "outputId": "8c665a5b-7181-4ac3-cfcb-570f93918232"
      },
      "execution_count": 29,
      "outputs": [
        {
          "output_type": "stream",
          "name": "stdout",
          "text": [
            "[1, 4, 9, 16, 25]\n"
          ]
        }
      ]
    }
  ]
}