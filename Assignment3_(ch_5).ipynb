{
  "cells": [
    {
      "cell_type": "markdown",
      "metadata": {
        "id": "view-in-github",
        "colab_type": "text"
      },
      "source": [
        "<a href=\"https://colab.research.google.com/github/c0nrrrs/Connor_DTSC3020_Fall2025/blob/main/Assignment3_(ch_5).ipynb\" target=\"_parent\"><img src=\"https://colab.research.google.com/assets/colab-badge.svg\" alt=\"Open In Colab\"/></a>"
      ]
    },
    {
      "cell_type": "markdown",
      "metadata": {
        "id": "nevCG4Qs0b8R"
      },
      "source": [
        "# DTSC 3020 – Assignment 3\n",
        "\n",
        "This exercise focuses on **if statements and conditional logic** in Python and is designed to help students practice decision-making structures.\n",
        "\n",
        "**Total points:** 5  \n",
        "**Deadline:** Friday at midnight  \n",
        "**Submission:** Upload your Python file to your GitHub repository and submit **only your GitHub link**.\n",
        "\n",
        "### Expectations\n",
        "- Write complete answers and run all cells before submission.\n",
        "- Keep the notebook clean (no unnecessary code).\n",
        "\n"
      ],
      "id": "nevCG4Qs0b8R"
    },
    {
      "cell_type": "markdown",
      "metadata": {
        "id": "gfumj0DY0b8f"
      },
      "source": [
        "## Question 1 – Movie Ticket System\n",
        "Write a Python code that checks the price of a movie ticket.\n",
        "If the age is between 0 and 11 it is Child, if between 12 and 17 it is Teen, and if 18 or older it is Adult.\n",
        "Print the category and the ticket price (you choose the price).\n",
        "Run the program with age = 16."
      ],
      "id": "gfumj0DY0b8f"
    },
    {
      "cell_type": "code",
      "metadata": {
        "id": "67TGDT6w0b8k",
        "colab": {
          "base_uri": "https://localhost:8080/"
        },
        "outputId": "815877b4-ee8a-4c77-969e-94a38927ecf2"
      },
      "execution_count": 1,
      "outputs": [
        {
          "output_type": "stream",
          "name": "stdout",
          "text": [
            "Category: Teen\n",
            "Ticket price: 10\n"
          ]
        }
      ],
      "source": [
        "# write your answer here\n",
        "age = 16\n",
        "ticket_price = 10\n",
        "if age <= 11:\n",
        "  category = \"Child\"\n",
        "elif 12 <= age <= 17:\n",
        "  category = \"Teen\"\n",
        "else:\n",
        "  category = \"Adult\"\n",
        "print(\"Category:\", category)\n",
        "print(\"Ticket price:\", ticket_price)"
      ],
      "id": "67TGDT6w0b8k"
    },
    {
      "cell_type": "markdown",
      "metadata": {
        "id": "_tUFNVKT0b8r"
      },
      "source": [
        "## Question 2 – Online Store Discount\n",
        "Write a Python code that applies a discount based on the shopping cart total.\n",
        "If the total is less than 50 dollars there is no discount, if the total is between 50 and 99 dollars there is a 10 percent discount, and if the total is 100 dollars or more there is a 20 percent discount.\n",
        "Print the original total, the discount, and the final price.\n",
        "Run the program with cart_total = 85."
      ],
      "id": "_tUFNVKT0b8r"
    },
    {
      "cell_type": "code",
      "metadata": {
        "id": "yTtX719o0b8v",
        "colab": {
          "base_uri": "https://localhost:8080/"
        },
        "outputId": "eca2b660-7e53-458a-cd25-decdf1f87029"
      },
      "execution_count": 22,
      "outputs": [
        {
          "output_type": "stream",
          "name": "stdout",
          "text": [
            "Original total: 85\n",
            "Discount: 0.1\n",
            "Final price: 76.5\n"
          ]
        }
      ],
      "source": [
        "# write your answer here\n",
        "cart_total = 85\n",
        "if cart_total < 50:\n",
        "  discount = 0\n",
        "elif 50 <= cart_total < 100:\n",
        "  discount = 0.1\n",
        "else:\n",
        "  discount = 0.2\n",
        "print(\"Original total:\", cart_total)\n",
        "print(\"Discount:\", discount)\n",
        "print(\"Final price:\", cart_total * (1 - discount))"
      ],
      "id": "yTtX719o0b8v"
    },
    {
      "cell_type": "markdown",
      "metadata": {
        "id": "uOUYYC870b8x"
      },
      "source": [
        "## Question 3 – Exam Grading\n",
        "Write a Python code that gives a letter grade for a score.\n",
        "If the score is between 90 and 100 the grade is A, if between 80 and 89 the grade is B, if between 70 and 79 the grade is C, if between 60 and 69 the grade is D, and if below 60 the grade is F.\n",
        "Print the grade and a short message.\n",
        "Run the program with score = 73."
      ],
      "id": "uOUYYC870b8x"
    },
    {
      "cell_type": "code",
      "metadata": {
        "id": "HDtf_YLG0b8y",
        "colab": {
          "base_uri": "https://localhost:8080/"
        },
        "outputId": "5aa10cb4-1b0d-493e-8a6c-8fcbfe3ca1b7"
      },
      "execution_count": 7,
      "outputs": [
        {
          "output_type": "stream",
          "name": "stdout",
          "text": [
            "Grade: C\n",
            "You passed\n"
          ]
        }
      ],
      "source": [
        "# write your answer here\n",
        "score = 73\n",
        "if 90 <= score <= 100:\n",
        "  grade = \"A\"\n",
        "elif 80 <= score <= 89:\n",
        "  grade = \"B\"\n",
        "elif 70 <= score <= 79:\n",
        "  grade = \"C\"\n",
        "elif 60 <= score <= 69:\n",
        "  grade = \"D\"\n",
        "else:\n",
        "  grade = \"F\"\n",
        "\n",
        "print(\"Grade:\", grade)\n",
        "print(\"You passed\")"
      ],
      "id": "HDtf_YLG0b8y"
    },
    {
      "cell_type": "markdown",
      "metadata": {
        "id": "ZCIKM6Xs0b80"
      },
      "source": [
        "## Question 4 – Parking Fee\n",
        "Write a Python code that calculates parking fees.\n",
        "If the car is parked for 0 to 2 hours the parking is free, if the car is parked for 3 to 5 hours the fee is 3 dollars per hour, and if the car is parked for more than 5 hours the fee is 3 dollars per hour for the first three hours after free and then 5 dollars per hour for the rest.\n",
        "Print the number of hours and the total fee.\n",
        "Run the program with hours = 6."
      ],
      "id": "ZCIKM6Xs0b80"
    },
    {
      "cell_type": "code",
      "metadata": {
        "id": "g3a_sPo50b81",
        "colab": {
          "base_uri": "https://localhost:8080/"
        },
        "outputId": "137a2687-cb8c-47f6-eedd-9035f87d15fc"
      },
      "execution_count": 24,
      "outputs": [
        {
          "output_type": "stream",
          "name": "stdout",
          "text": [
            "Number of hours: 6\n",
            "Total fee: 23\n"
          ]
        }
      ],
      "source": [
        "# write your answer here\n",
        "hours = 6\n",
        "if hours <= 2:\n",
        "  fee = 0\n",
        "elif 3 <= hours <= 5:\n",
        "  fee = (hours - 2) * 3\n",
        "else:\n",
        "  fee = 6 * 3 + (hours - 5) * 5\n",
        "\n",
        "print(\"Number of hours:\", hours)\n",
        "print(\"Total fee:\", fee)"
      ],
      "id": "g3a_sPo50b81"
    },
    {
      "cell_type": "markdown",
      "metadata": {
        "id": "XBf0-SPz0b83"
      },
      "source": [
        "## Question 5 – Cafeteria Menu\n",
        "Write a Python code that creates a list with three food items.\n",
        "Check if an order is in the list.\n",
        "If the item is in the list print a confirmation, and if the item is not in the list print a polite message.\n",
        "Run the program with menu = ['pizza','salad','sandwich'] and order = 'salad'."
      ],
      "id": "XBf0-SPz0b83"
    },
    {
      "cell_type": "code",
      "metadata": {
        "id": "y52UEMoX0b85",
        "colab": {
          "base_uri": "https://localhost:8080/"
        },
        "outputId": "74ab87b1-1e60-46ed-de9d-c67f515cd57c"
      },
      "execution_count": 12,
      "outputs": [
        {
          "output_type": "stream",
          "name": "stdout",
          "text": [
            "Confirmation\n"
          ]
        }
      ],
      "source": [
        "# write your answer here\n",
        "menu = ['pizza', 'salad', 'sandwich']\n",
        "order = 'salad'\n",
        "if order in menu:\n",
        "  print(\"Confirmation\")\n",
        "else:\n",
        "  print(\"Please try again\")"
      ],
      "id": "y52UEMoX0b85"
    },
    {
      "cell_type": "markdown",
      "metadata": {
        "id": "-60rL71F0b86"
      },
      "source": [
        "## Question 6 – Job Application Filter\n",
        "Write a Python code that checks if a person is eligible for a job.\n",
        "If the person is older than 22 and has more than 2 years of experience print Accepted.\n",
        "Otherwise print Not Accepted.\n",
        "Run the program with age = 23 and experience = 1."
      ],
      "id": "-60rL71F0b86"
    },
    {
      "cell_type": "code",
      "metadata": {
        "id": "-h964CqY0b88",
        "colab": {
          "base_uri": "https://localhost:8080/"
        },
        "outputId": "ffd59bac-9762-4a25-fbde-77f5b2ec935a"
      },
      "execution_count": 14,
      "outputs": [
        {
          "output_type": "stream",
          "name": "stdout",
          "text": [
            "Not Accepted\n"
          ]
        }
      ],
      "source": [
        "# write your answer here\n",
        "age = 23\n",
        "experience = 1\n",
        "if age >= 22 and experience >= 2:\n",
        "  print(\"Accepted\")\n",
        "else:\n",
        "  print(\"Not Accepted\")"
      ],
      "id": "-h964CqY0b88"
    },
    {
      "cell_type": "markdown",
      "metadata": {
        "id": "MOMMxnuE0b8-"
      },
      "source": [
        "## Question 7 – Clothing Advice\n",
        "Write a Python code that suggests clothing based on the temperature.\n",
        "If the temperature is below 10 print Coat and gloves, if the temperature is between 10 and 19 print Jacket, and if the temperature is 20 or more print T-shirt.\n",
        "Run the program with temperature = 15."
      ],
      "id": "MOMMxnuE0b8-"
    },
    {
      "cell_type": "code",
      "metadata": {
        "id": "V6RtrCOa0b8_",
        "colab": {
          "base_uri": "https://localhost:8080/"
        },
        "outputId": "a4f9f2b9-dc42-4bbb-9386-16fc7a3df137"
      },
      "execution_count": 13,
      "outputs": [
        {
          "output_type": "stream",
          "name": "stdout",
          "text": [
            "Jacket\n"
          ]
        }
      ],
      "source": [
        "# write your answer here\n",
        "temperature = 15\n",
        "if temperature < 10:\n",
        "  print(\"Coat and gloves\")\n",
        "elif 10 <= temperature < 19:\n",
        "  print(\"Jacket\")\n",
        "else:\n",
        "  print(\"T-shirt\")"
      ],
      "id": "V6RtrCOa0b8_"
    },
    {
      "cell_type": "markdown",
      "metadata": {
        "id": "R-i9Jzpn0b9A"
      },
      "source": [
        "## Question 8 – Loan Eligibility\n",
        "Write a Python code that checks loan eligibility.\n",
        "If the salary is at least 3000 and the credit score is at least 650 print Loan Approved, otherwise print Loan Denied.\n",
        "Run the program with salary = 3500 and credit_score = 640."
      ],
      "id": "R-i9Jzpn0b9A"
    },
    {
      "cell_type": "code",
      "metadata": {
        "id": "2M0s0bC40b9B",
        "colab": {
          "base_uri": "https://localhost:8080/"
        },
        "outputId": "90cb28b1-30a2-4875-f667-365de6257170"
      },
      "execution_count": 25,
      "outputs": [
        {
          "output_type": "stream",
          "name": "stdout",
          "text": [
            "Loan Denied\n"
          ]
        }
      ],
      "source": [
        "# write your answer here\n",
        "salary = 3500\n",
        "credit_score = 640\n",
        "if salary >= 3000 and credit_score >= 650:\n",
        "  print(\"Loan Approved\")\n",
        "else:\n",
        "  print(\"Loan Denied\")"
      ],
      "id": "2M0s0bC40b9B"
    },
    {
      "cell_type": "markdown",
      "metadata": {
        "id": "I0WmTyFv0b9D"
      },
      "source": [
        "## Question 9 – Password Strength\n",
        "Write a Python code that checks if a password is strong, medium, or weak based on its length.\n",
        "If the password has fewer than 6 characters it is Weak, if it has 6 to 10 characters it is Medium, and if it has more than 10 characters it is Strong.\n",
        "Print the strength.\n",
        "Run the program with password = 'hello123'."
      ],
      "id": "I0WmTyFv0b9D"
    },
    {
      "cell_type": "code",
      "metadata": {
        "id": "Jm8fu7ft0b9E",
        "colab": {
          "base_uri": "https://localhost:8080/"
        },
        "outputId": "09e3debe-e9b6-4b6b-e31f-a0cea3cb069e"
      },
      "execution_count": 26,
      "outputs": [
        {
          "output_type": "stream",
          "name": "stdout",
          "text": [
            "Strength: Medium\n"
          ]
        }
      ],
      "source": [
        "# write your answer here\n",
        "password = 'hello123'\n",
        "if len(password) < 6:\n",
        "  strength = \"Weak\"\n",
        "elif 6 <= len(password) <= 10:\n",
        "  strength = \"Medium\"\n",
        "else:\n",
        "  strength = \"Strong\"\n",
        "\n",
        "print(\"Strength:\", strength)"
      ],
      "id": "Jm8fu7ft0b9E"
    },
    {
      "cell_type": "markdown",
      "metadata": {
        "id": "kgKSm4WB0b9F"
      },
      "source": [
        "## Question 10 – Guest List Checker\n",
        "Write a Python code that creates a list with three invited guests.\n",
        "Define a variable for a guest name.\n",
        "Check if the guest name is in the list.\n",
        "If the guest is in the list print Welcome, and if the guest is not in the list print Not on the list.\n",
        "Run the program with guest = 'Sara'."
      ],
      "id": "kgKSm4WB0b9F"
    },
    {
      "cell_type": "code",
      "metadata": {
        "id": "4pyiTbMT0b9G",
        "colab": {
          "base_uri": "https://localhost:8080/"
        },
        "outputId": "5234c2c5-e4f4-417d-c484-4ac2e03abc81"
      },
      "execution_count": 27,
      "outputs": [
        {
          "output_type": "stream",
          "name": "stdout",
          "text": [
            "Welcome\n"
          ]
        }
      ],
      "source": [
        "# write your answer here\n",
        "guest = 'Sara'\n",
        "guest_list = ['John', 'Jane', 'Sara']\n",
        "if guest in guest_list:\n",
        "  print(\"Welcome\")\n",
        "else:\n",
        "  print(\"Not on the list\")"
      ],
      "id": "4pyiTbMT0b9G"
    }
  ],
  "metadata": {
    "kernelspec": {
      "display_name": "Python 3",
      "language": "python",
      "name": "python3"
    },
    "language_info": {
      "name": "python",
      "version": "3.x"
    },
    "colab": {
      "provenance": [],
      "include_colab_link": true
    }
  },
  "nbformat": 4,
  "nbformat_minor": 5
}